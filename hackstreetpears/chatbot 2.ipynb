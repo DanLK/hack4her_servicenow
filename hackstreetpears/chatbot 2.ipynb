{
 "cells": [
  {
   "cell_type": "code",
   "execution_count": 15,
   "id": "e240805d",
   "metadata": {},
   "outputs": [],
   "source": [
    "import sys\n",
    "import os\n",
    "\n",
    "sys.path.append(os.path.abspath('../tapeagents'))\n",
    "\n",
    "from tapeagents.llms import OpenrouterLLM, LLMOutput\n",
    "\n",
    "api_key = \"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\"\n",
    "llm = OpenrouterLLM(\n",
    "    model_name=\"meta-llama/llama-3.3-70b-instruct:free\",  # https://openrouter.ai/meta-llama/llama-3.3-70b-instruct:free\n",
    "    api_token=api_key,\n",
    "    parameters={\"temperature\": 0.1},\n",
    ")"
   ]
  },
  {
   "cell_type": "code",
   "execution_count": null,
   "id": "97fcc26c",
   "metadata": {},
   "outputs": [],
   "source": [
    "regulations_info = open()"
   ]
  },
  {
   "cell_type": "code",
   "execution_count": null,
   "id": "f40655dc",
   "metadata": {},
   "outputs": [
    {
     "data": {
      "application/vnd.jupyter.widget-view+json": {
       "model_id": "6cf602679cca4853a6026f0422090866",
       "version_major": 2,
       "version_minor": 0
      },
      "text/plain": [
       "Text(value='', placeholder='Ask me anything')"
      ]
     },
     "metadata": {},
     "output_type": "display_data"
    },
    {
     "data": {
      "application/vnd.jupyter.widget-view+json": {
       "model_id": "4e139ae944eb4b9da7db59ac37188e0d",
       "version_major": 2,
       "version_minor": 0
      },
      "text/plain": [
       "Output()"
      ]
     },
     "metadata": {},
     "output_type": "display_data"
    },
    {
     "name": "stderr",
     "output_type": "stream",
     "text": [
      "/var/folders/z8/ydl_c8q95yv6xh0g25nkj3n40000gn/T/ipykernel_48699/3671047229.py:99: DeprecationWarning: on_submit is deprecated. Instead, set the .continuous_update attribute to False and observe the value changing with: mywidget.observe(callback, 'value').\n",
      "  input_box.on_submit(handle_user_input)\n"
     ]
    }
   ],
   "source": [
    "from tapeagents.agent import Agent\n",
    "from tapeagents.core import PartialStep, Prompt, TapeMetadata\n",
    "from tapeagents.dialog_tape import AssistantStep, DialogTape, SystemStep, UserStep\n",
    "\n",
    "import ipywidgets as widgets\n",
    "from IPython.display import display, clear_output\n",
    "\n",
    "class ChildcareSupportAgent(Agent[DialogTape]):\n",
    "\n",
    "    def make_prompt(self, tape: DialogTape):\n",
    "        return Prompt(messages=[{\"role\": \"system\", \"content\": tape.steps[0].content}] + [\n",
    "            {\"role\": \"user\" if isinstance(step, UserStep) else \"assistant\", \"content\": step.content}\n",
    "            for step in tape.steps[1:]\n",
    "        ])\n",
    "        \n",
    "    def generate_steps(self, tape: DialogTape, llm_stream):\n",
    "        buffer = []\n",
    "        for event in llm_stream:  # This is a generator of chunks and final outputs\n",
    "            if event.chunk:\n",
    "                buffer.append(event.chunk)\n",
    "                yield PartialStep(step=AssistantStep(content=\"\".join(buffer)))\n",
    "            elif event.output:\n",
    "                yield AssistantStep(content=event.output.content or \"\")\n",
    "                return\n",
    "            else:\n",
    "                raise ValueError(f\"Unknown event type from LLM: {event}\")\n",
    "\n",
    "    def make_llm_output(self, tape: DialogTape, index: int):\n",
    "        step = tape.steps[index]\n",
    "        if not isinstance(step, AssistantStep):\n",
    "            raise ValueError(\"Expected AssistantStep\")\n",
    "        return LLMOutput(content=step.content)\n",
    "\n",
    "\n",
    "# Create agent instance\n",
    "agent = ChildcareSupportAgent.create(llm, name=\"childcare_agent\")\n",
    "\n",
    "flag_guide = \"\"\"\n",
    "Childcare Application Flags:\n",
    "- Flag A: Missing proof of income\n",
    "- Flag B: Child not registered in municipal system\n",
    "- Flag C: Application submitted after deadline\n",
    "- Flag D: Inconsistent residency records\n",
    "\n",
    "Use this guide to explain flags to municipality workers.\n",
    "\"\"\"\n",
    "\n",
    "# Initialize tape with system context (childcare domain prompt)\n",
    "tape = DialogTape(\n",
    "    context=None,\n",
    "    steps=[SystemStep(content=(\n",
    "        \"You are a childcare support assistant for municipality workers reviewing applications. \"\n",
    "        \"You explain application flags and decisions made by an external deterministic program.\" + flag_guide\n",
    "    ))]\n",
    ")\n",
    "\n",
    "\n",
    "input_box = widgets.Text(placeholder=\"Ask me anything\")\n",
    "output_area = widgets.Output()\n",
    "\n",
    "display(input_box, output_area)\n",
    "\n",
    "def handle_user_input(submit_event):\n",
    "    global tape\n",
    "    user_input = submit_event.value\n",
    "    input_box.value = \"\"  # clear input\n",
    "\n",
    "    with output_area:\n",
    "        print(f\"👤 You: {user_input}\")\n",
    "        tape = tape.append(UserStep(content=user_input))\n",
    "        # print(f\"🤖 Assistant: \", end=\"\", flush=True)\n",
    "\n",
    "        new_tape = None\n",
    "        for event in agent.run(tape):\n",
    "            if event.partial_step:\n",
    "                print(event.partial_step.step.content, end=\"\", flush=True)\n",
    "            if event.final_tape:\n",
    "                new_tape = event.final_tape\n",
    "        tape = new_tape\n",
    "        last_step = tape.steps[-1]\n",
    "        print(f\"🤖 Assistant: {last_step.content}\")\n",
    "        print(\"\\n\")\n",
    "\n",
    "# for step in tape.steps:\n",
    "#     print(step.__class__.__name__, \":\", step.content)\n",
    "\n",
    "input_box.on_submit(handle_user_input)"
   ]
  }
 ],
 "metadata": {
  "kernelspec": {
   "display_name": ".venv",
   "language": "python",
   "name": "python3"
  },
  "language_info": {
   "codemirror_mode": {
    "name": "ipython",
    "version": 3
   },
   "file_extension": ".py",
   "mimetype": "text/x-python",
   "name": "python",
   "nbconvert_exporter": "python",
   "pygments_lexer": "ipython3",
   "version": "3.10.18"
  }
 },
 "nbformat": 4,
 "nbformat_minor": 5
}
